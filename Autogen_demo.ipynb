{
 "cells": [
  {
   "cell_type": "markdown",
   "metadata": {},
   "source": [
    "# Project: Create an AI-Powered Chatbot Using AutoGen to retrieve Weather Information of a city \n",
    "                                                                                               \n",
    "We will build a chatbot using the AutoGen framework that takes a city name (assume London) from the user, retrieves real-time weather information, and sends it back as a response to the user.                                                                                         "
   ]
  },
  {
   "cell_type": "markdown",
   "metadata": {},
   "source": [
    "AutoGen is an open-source programming framework for building AI agents(AI chatbots), therefore, first we will install pyautogen library and then import autogen from it. Since, our autogen chatbot has to fetch weather data from an external API like OpenWeatherMap, therefore, requests module will be needed to fetch the information from the external API"
   ]
  },
  {
   "cell_type": "markdown",
   "metadata": {},
   "source": [
    "Once we installed all the libraries and dependencies, then we have to create a function to Get Weather Information of a city. To get real time weather data, we can use API of OpenWeatherMap. Visit the link https://openweathermap.org/api to get free API key"
   ]
  },
  {
   "cell_type": "markdown",
   "metadata": {},
   "source": [
    "After this, we have to create the chatbot class in which we have to call the above function so that when a user asks the question about London's weather, the bot will first process the question and then using function call can retrieve the weather report."
   ]
  },
  {
   "cell_type": "markdown",
   "metadata": {},
   "source": [
    "After creating the chatbot class, we have to create the user class. Finally, create the two objects using chatbot class and user class. These objects will call these classes which ultimately build the automatic communication between the user and the chatbot. "
   ]
  },
  {
   "cell_type": "code",
   "execution_count": 1,
   "metadata": {
    "colab": {
     "base_uri": "https://localhost:8080/"
    },
    "id": "uMMtyP1m-3Ea",
    "outputId": "6d17ebfa-48d7-403d-f42a-df53b1294140"
   },
   "outputs": [
    {
     "name": "stdout",
     "output_type": "stream",
     "text": [
      "Drive already mounted at /content/drive; to attempt to forcibly remount, call drive.mount(\"/content/drive\", force_remount=True).\n"
     ]
    }
   ],
   "source": [
    "from google.colab import drive\n",
    "drive.mount('/content/drive')"
   ]
  },
  {
   "cell_type": "code",
   "execution_count": 2,
   "metadata": {
    "id": "mtcBAlNn_C5j"
   },
   "outputs": [],
   "source": [
    "import os\n",
    "os.chdir('/content/drive/MyDrive/AutoGen_Project')"
   ]
  },
  {
   "cell_type": "markdown",
   "metadata": {},
   "source": [
    "# Install AutoGen and Required Libraries"
   ]
  },
  {
   "cell_type": "code",
   "execution_count": 3,
   "metadata": {
    "colab": {
     "base_uri": "https://localhost:8080/"
    },
    "id": "1w7yTxcR_jZh",
    "outputId": "98e47e97-32a8-47cb-9d38-f12ce9a531fa"
   },
   "outputs": [
    {
     "name": "stdout",
     "output_type": "stream",
     "text": [
      "Requirement already satisfied: pyautogen in /usr/local/lib/python3.11/dist-packages (0.7.6)\n",
      "Requirement already satisfied: asyncer==0.0.8 in /usr/local/lib/python3.11/dist-packages (from pyautogen) (0.0.8)\n",
      "Requirement already satisfied: diskcache in /usr/local/lib/python3.11/dist-packages (from pyautogen) (5.6.3)\n",
      "Requirement already satisfied: docker in /usr/local/lib/python3.11/dist-packages (from pyautogen) (7.1.0)\n",
      "Requirement already satisfied: fast-depends<3,>=2.4.12 in /usr/local/lib/python3.11/dist-packages (from pyautogen) (2.4.12)\n",
      "Requirement already satisfied: httpx<1,>=0.28.1 in /usr/local/lib/python3.11/dist-packages (from pyautogen) (0.28.1)\n",
      "Requirement already satisfied: packaging in /usr/local/lib/python3.11/dist-packages (from pyautogen) (24.2)\n",
      "Requirement already satisfied: pydantic<3,>=2.6.1 in /usr/local/lib/python3.11/dist-packages (from pyautogen) (2.10.6)\n",
      "Requirement already satisfied: python-dotenv in /usr/local/lib/python3.11/dist-packages (from pyautogen) (1.0.1)\n",
      "Requirement already satisfied: termcolor in /usr/local/lib/python3.11/dist-packages (from pyautogen) (2.5.0)\n",
      "Requirement already satisfied: tiktoken in /usr/local/lib/python3.11/dist-packages (from pyautogen) (0.9.0)\n",
      "Requirement already satisfied: anyio<5.0,>=3.4.0 in /usr/local/lib/python3.11/dist-packages (from asyncer==0.0.8->pyautogen) (3.7.1)\n",
      "Requirement already satisfied: certifi in /usr/local/lib/python3.11/dist-packages (from httpx<1,>=0.28.1->pyautogen) (2025.1.31)\n",
      "Requirement already satisfied: httpcore==1.* in /usr/local/lib/python3.11/dist-packages (from httpx<1,>=0.28.1->pyautogen) (1.0.7)\n",
      "Requirement already satisfied: idna in /usr/local/lib/python3.11/dist-packages (from httpx<1,>=0.28.1->pyautogen) (3.10)\n",
      "Requirement already satisfied: h11<0.15,>=0.13 in /usr/local/lib/python3.11/dist-packages (from httpcore==1.*->httpx<1,>=0.28.1->pyautogen) (0.14.0)\n",
      "Requirement already satisfied: annotated-types>=0.6.0 in /usr/local/lib/python3.11/dist-packages (from pydantic<3,>=2.6.1->pyautogen) (0.7.0)\n",
      "Requirement already satisfied: pydantic-core==2.27.2 in /usr/local/lib/python3.11/dist-packages (from pydantic<3,>=2.6.1->pyautogen) (2.27.2)\n",
      "Requirement already satisfied: typing-extensions>=4.12.2 in /usr/local/lib/python3.11/dist-packages (from pydantic<3,>=2.6.1->pyautogen) (4.12.2)\n",
      "Requirement already satisfied: requests>=2.26.0 in /usr/local/lib/python3.11/dist-packages (from docker->pyautogen) (2.32.3)\n",
      "Requirement already satisfied: urllib3>=1.26.0 in /usr/local/lib/python3.11/dist-packages (from docker->pyautogen) (2.3.0)\n",
      "Requirement already satisfied: regex>=2022.1.18 in /usr/local/lib/python3.11/dist-packages (from tiktoken->pyautogen) (2024.11.6)\n",
      "Requirement already satisfied: sniffio>=1.1 in /usr/local/lib/python3.11/dist-packages (from anyio<5.0,>=3.4.0->asyncer==0.0.8->pyautogen) (1.3.1)\n",
      "Requirement already satisfied: charset-normalizer<4,>=2 in /usr/local/lib/python3.11/dist-packages (from requests>=2.26.0->docker->pyautogen) (3.4.1)\n"
     ]
    }
   ],
   "source": [
    "!pip install pyautogen"
   ]
  },
  {
   "cell_type": "code",
   "execution_count": 4,
   "metadata": {
    "colab": {
     "base_uri": "https://localhost:8080/"
    },
    "id": "cLMKzZZh_pfE",
    "outputId": "0cabf655-5a70-4da3-c468-f658105cded7"
   },
   "outputs": [
    {
     "name": "stderr",
     "output_type": "stream",
     "text": [
      "/usr/local/lib/python3.11/dist-packages/pydantic/_internal/_generate_schema.py:502: UserWarning: <built-in function any> is not a Python type (it may be an instance of an object), Pydantic will allow any object with no validation since we cannot even enforce that the input is an instance of the given type. To get rid of this error wrap the type with `pydantic.SkipValidation`.\n",
      "  warn(\n"
     ]
    }
   ],
   "source": [
    "import autogen\n",
    "import requests   "
   ]
  },
  {
   "cell_type": "markdown",
   "metadata": {},
   "source": [
    "# Set Up a Function to Get Weather Information of London\n",
    "\n",
    "We have to define a function in such a way that when we pass OpenWeatherMap API key as input, then return statement should give us weather report as output"
   ]
  },
  {
   "cell_type": "code",
   "execution_count": 5,
   "metadata": {
    "id": "PlnNZrMF_xhY"
   },
   "outputs": [],
   "source": [
    "API_KEY = \"41c68af14e3fa28c5831c12347e6f86c\"  #OpenWeatherMap API key to fetch weather for London\n",
    "BASE_URL = \"http://api.openweathermap.org/data/2.5/weather\"  #Base API URL for fetching weather data\n",
    "\n",
    "def get_weather():  # function\n",
    "    params = {\"q\": \"London\", \"appid\": API_KEY, \"units\": \"metric\"}  # parameters: q(city),appid(API key), units(degree C)\n",
    "    response = requests.get(BASE_URL, params=params)  #Sends a get request to OpenWeatherMap API\n",
    "    if response.status_code == 200:  #Checks if the API request was successful \n",
    "        data = response.json()   #Converts the API response (bidefault in JSON format) into a Python dictionary\n",
    "        weather = data[\"weather\"][0][\"description\"] #Extracts weather description\n",
    "        temperature = data[\"main\"][\"temp\"]  #Extracts temperature (in Celsius)\n",
    "        return f\"Weather in London: {weather}, Temperature: {temperature}°C\" #Returns a weather report.\n",
    "    else:\n",
    "        return \"Sorry, I couldn't fetch the weather for London.\" #If API  is invalid, return an error message."
   ]
  },
  {
   "cell_type": "markdown",
   "metadata": {},
   "source": [
    "# We have to  define a chatbot agent called WeatherBot that responds to messages related to weather in London using the AutoGen framework.\n",
    "\n"
   ]
  },
  {
   "cell_type": "code",
   "execution_count": 6,
   "metadata": {
    "id": "a-x8KQtyDzq6"
   },
   "outputs": [],
   "source": [
    "class WeatherAgent(autogen.AssistantAgent): #Creates a chatbot class WeatherAgent, inheriting from AssistantAgent in AutoGen.\n",
    "    def __init__(self, name=\"WeatherBot\"): #Constructor to initialize the chatbot with the name \"WeatherBot\".\n",
    "        super().__init__(name=name) #Calls the parent class (AssistantAgent) constructor to set the chatbot's name.\n",
    "\n",
    "    def process_message(self, message, sender): #Defines how the chatbot processes user messages.\n",
    "        if \"weather\" in message.lower() and \"london\" in message.lower(): #Checks if the message contains both \"weather\" and \"London\".\n",
    "            return get_weather()  #Calls the get_weather() function to fetch London’s weather.\n",
    "        return \"I can only provide weather updates for London.\" #Sends a default message if the request is about another city.\n",
    "\n"
   ]
  },
  {
   "cell_type": "markdown",
   "metadata": {},
   "source": [
    "# This UserAgent class represents the user interacting with the chatbot in the AutoGen framework. It allows the user to send messages to another class WeatherAgent and receive responses."
   ]
  },
  {
   "cell_type": "code",
   "execution_count": 7,
   "metadata": {
    "id": "WPOSSCLZEH6P"
   },
   "outputs": [],
   "source": [
    "class UserAgent(autogen.UserProxyAgent): #Creates a user agent that inherits from UserProxyAgent in AutoGen.\n",
    "    def __init__(self, name=\"User\"): #Constructor to initialize the user with the name \"User\"\n",
    "        super().__init__(name=name)  #Calls the parent class constructor to set the user's name.\n",
    "\n",
    "    def send_message(self, message, receiver):  #Defines how the user sends messages to another agent\n",
    "        print(f\"\\nUser: {message}\")  #Prints the user's message \n",
    "        response = receiver.process_message(message, self)  #Sends the message to the receiver (e.g., WeatherBot) and gets the response.\n",
    "        print(f\"\\n{receiver.name}: {response}\\n\") #Prints the receiver's (WeatherBot's) response.\n"
   ]
  },
  {
   "cell_type": "markdown",
   "metadata": {},
   "source": [
    "# This part of the code runs the chatbot system when the script is executed.\n",
    "\n",
    "Here, we will call both the classes: UserAgent, WeatherAgent using their objects to build the communication between user and the chatbot"
   ]
  },
  {
   "cell_type": "code",
   "execution_count": 8,
   "metadata": {
    "colab": {
     "base_uri": "https://localhost:8080/"
    },
    "id": "GkKEpeJOERzG",
    "outputId": "7dc6f146-38b6-4909-db1c-78aa804bf85d"
   },
   "outputs": [
    {
     "name": "stdout",
     "output_type": "stream",
     "text": [
      "\n",
      "User: What is the weather in London?\n",
      "\n",
      "WeatherBot: Weather in London: clear sky, Temperature: 3.78°C\n",
      "\n"
     ]
    }
   ],
   "source": [
    "if __name__ == \"__main__\": #Ensures the code inside only runs when the script is executed, not when imported.\n",
    "    user = UserAgent() #Create object user using UserAgent class(representing the person interacting with the chatbot).\n",
    "    bot = WeatherAgent() #Create object bot using  WeatherAgent class(representing the chatbot)\n",
    "\n",
    "    user.send_message(\"What is the weather in London?\", bot) #User sends a message to the chatbot asking for the weather in London"
   ]
  },
  {
   "cell_type": "markdown",
   "metadata": {
    "id": "JOHXPHMmEYfQ"
   },
   "source": [
    "Test the Chatbot on Anaconda Prompt: python autogen_demo.py"
   ]
  },
  {
   "cell_type": "markdown",
   "metadata": {},
   "source": [
    "Note: If we want the chatbot to fetch weather information for any city, we need to modify the process_message function to extract the city name from the user’s message. Then, we can pass this city name to the get_weather(city) function."
   ]
  }
 ],
 "metadata": {
  "accelerator": "GPU",
  "colab": {
   "gpuType": "T4",
   "provenance": []
  },
  "kernelspec": {
   "display_name": "Python 3 (ipykernel)",
   "language": "python",
   "name": "python3"
  },
  "language_info": {
   "codemirror_mode": {
    "name": "ipython",
    "version": 3
   },
   "file_extension": ".py",
   "mimetype": "text/x-python",
   "name": "python",
   "nbconvert_exporter": "python",
   "pygments_lexer": "ipython3",
   "version": "3.9.13"
  }
 },
 "nbformat": 4,
 "nbformat_minor": 1
}
